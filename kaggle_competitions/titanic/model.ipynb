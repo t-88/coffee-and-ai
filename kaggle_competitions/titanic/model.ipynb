{
 "cells": [
  {
   "cell_type": "code",
   "execution_count": 313,
   "id": "d67f7da8",
   "metadata": {},
   "outputs": [],
   "source": [
    "import pandas as pd\n",
    "import numpy as np\n",
    "from sklearn.ensemble import RandomForestClassifier\n"
   ]
  },
  {
   "cell_type": "code",
   "execution_count": 386,
   "id": "83247aca",
   "metadata": {},
   "outputs": [],
   "source": [
    "train_ds = pd.read_csv(\"data/train.csv\",index_col=\"PassengerId\")\n",
    "test_ds = pd.read_csv(\"data/test.csv\",index_col=\"PassengerId\")"
   ]
  },
  {
   "cell_type": "code",
   "execution_count": 846,
   "id": "95e0b61c",
   "metadata": {},
   "outputs": [],
   "source": [
    "X = train_ds.copy()\n",
    "y = X.pop(\"Survived\")"
   ]
  },
  {
   "cell_type": "code",
   "execution_count": 847,
   "id": "af9446b4",
   "metadata": {},
   "outputs": [],
   "source": [
    "\n",
    "class CategoricalDropper(BaseEstimator,TransformerMixin):\n",
    "    def __init__(self,dropped):\n",
    "        self.dropped = dropped\n",
    "    def fit(self,x):\n",
    "        return self\n",
    "    def transform(self,x):\n",
    "        x = x.drop(self.dropped,axis=1)\n",
    "        return x\n",
    "\n",
    "class CabinExtractor(BaseEstimator,TransformerMixin):\n",
    "    def fit(self,x):\n",
    "        return self\n",
    "    \n",
    "    def transform(self,x):\n",
    "        x[\"Cabin\"] = x[\"Cabin\"].fillna(\"N-1\")\n",
    "        x[\"CabinClass\"] = x[\"Cabin\"].str.extract(r\"(.)\",expand=True)\n",
    "        x[\"CabinNumber\"] = x[\"Cabin\"].str.extract(r\"(-?\\d+)\",expand=True)\n",
    "        x[\"CabinNumber\"] = x[\"CabinNumber\"].fillna(0)\n",
    "        return x\n",
    "    \n",
    "class pdSimpleImputer(BaseEstimator,TransformerMixin):\n",
    "    def __init__(self,imputed):\n",
    "        self.imputed = imputed\n",
    "    def fit(self,x):\n",
    "        return self\n",
    "    def transform(self,x):\n",
    "        for impute in self.imputed:\n",
    "            x[impute] =  pd.DataFrame(SimpleImputer(strategy=\"most_frequent\").fit_transform(x[impute].to_numpy().reshape(-1,1)))\n",
    "        return x\n",
    "    \n",
    "    \n",
    "class pdOrdinalEncoder(BaseEstimator,TransformerMixin):\n",
    "    def __init__(self,encoded):\n",
    "        self.encoded = encoded\n",
    "    def fit(self,x):\n",
    "        return self\n",
    "    def transform(self,x):\n",
    "        for encode in self.encoded:\n",
    "            x[encode] =  pd.DataFrame(OrdinalEncoder().fit_transform(x[encode].to_numpy().reshape(-1,1)))\n",
    "        return x "
   ]
  },
  {
   "cell_type": "code",
   "execution_count": 905,
   "id": "db0cf49a",
   "metadata": {},
   "outputs": [],
   "source": [
    "from sklearn.pipeline import Pipeline\n",
    "from sklearn.preprocessing import OrdinalEncoder \n",
    "from sklearn.impute import SimpleImputer\n",
    "from sklearn.compose import ColumnTransformer\n",
    "from sklearn.base import TransformerMixin, BaseEstimator\n",
    "       \n",
    "# get a baseline value\n",
    "# handling categorical data\n",
    "\n"
   ]
  },
  {
   "cell_type": "code",
   "execution_count": 906,
   "id": "d6f57e11",
   "metadata": {},
   "outputs": [],
   "source": [
    "from sklearn.impute import SimpleImputer\n",
    "# handling numerical data\n",
    "\n",
    "# numerical_columns = [i for i in X.columns if X[i].dtype != \"object\"]\n",
    "# numerical_data = pd.DataFrame([X[i].values for i in X.columns if X[i].dtype != \"object\"]).T\n",
    "# numerical_data.columns = numerical_columns\n",
    "\n",
    "# numerical_pipeline = Pipeline([\n",
    "#     (\"impute-age\",pdSimpleImputer([\"Age\"]))\n",
    "# ])"
   ]
  },
  {
   "cell_type": "code",
   "execution_count": 1014,
   "id": "cb5fb05b",
   "metadata": {},
   "outputs": [
    {
     "data": {
      "text/html": [
       "<style>#sk-container-id-23 {color: black;}#sk-container-id-23 pre{padding: 0;}#sk-container-id-23 div.sk-toggleable {background-color: white;}#sk-container-id-23 label.sk-toggleable__label {cursor: pointer;display: block;width: 100%;margin-bottom: 0;padding: 0.3em;box-sizing: border-box;text-align: center;}#sk-container-id-23 label.sk-toggleable__label-arrow:before {content: \"▸\";float: left;margin-right: 0.25em;color: #696969;}#sk-container-id-23 label.sk-toggleable__label-arrow:hover:before {color: black;}#sk-container-id-23 div.sk-estimator:hover label.sk-toggleable__label-arrow:before {color: black;}#sk-container-id-23 div.sk-toggleable__content {max-height: 0;max-width: 0;overflow: hidden;text-align: left;background-color: #f0f8ff;}#sk-container-id-23 div.sk-toggleable__content pre {margin: 0.2em;color: black;border-radius: 0.25em;background-color: #f0f8ff;}#sk-container-id-23 input.sk-toggleable__control:checked~div.sk-toggleable__content {max-height: 200px;max-width: 100%;overflow: auto;}#sk-container-id-23 input.sk-toggleable__control:checked~label.sk-toggleable__label-arrow:before {content: \"▾\";}#sk-container-id-23 div.sk-estimator input.sk-toggleable__control:checked~label.sk-toggleable__label {background-color: #d4ebff;}#sk-container-id-23 div.sk-label input.sk-toggleable__control:checked~label.sk-toggleable__label {background-color: #d4ebff;}#sk-container-id-23 input.sk-hidden--visually {border: 0;clip: rect(1px 1px 1px 1px);clip: rect(1px, 1px, 1px, 1px);height: 1px;margin: -1px;overflow: hidden;padding: 0;position: absolute;width: 1px;}#sk-container-id-23 div.sk-estimator {font-family: monospace;background-color: #f0f8ff;border: 1px dotted black;border-radius: 0.25em;box-sizing: border-box;margin-bottom: 0.5em;}#sk-container-id-23 div.sk-estimator:hover {background-color: #d4ebff;}#sk-container-id-23 div.sk-parallel-item::after {content: \"\";width: 100%;border-bottom: 1px solid gray;flex-grow: 1;}#sk-container-id-23 div.sk-label:hover label.sk-toggleable__label {background-color: #d4ebff;}#sk-container-id-23 div.sk-serial::before {content: \"\";position: absolute;border-left: 1px solid gray;box-sizing: border-box;top: 0;bottom: 0;left: 50%;z-index: 0;}#sk-container-id-23 div.sk-serial {display: flex;flex-direction: column;align-items: center;background-color: white;padding-right: 0.2em;padding-left: 0.2em;position: relative;}#sk-container-id-23 div.sk-item {position: relative;z-index: 1;}#sk-container-id-23 div.sk-parallel {display: flex;align-items: stretch;justify-content: center;background-color: white;position: relative;}#sk-container-id-23 div.sk-item::before, #sk-container-id-23 div.sk-parallel-item::before {content: \"\";position: absolute;border-left: 1px solid gray;box-sizing: border-box;top: 0;bottom: 0;left: 50%;z-index: -1;}#sk-container-id-23 div.sk-parallel-item {display: flex;flex-direction: column;z-index: 1;position: relative;background-color: white;}#sk-container-id-23 div.sk-parallel-item:first-child::after {align-self: flex-end;width: 50%;}#sk-container-id-23 div.sk-parallel-item:last-child::after {align-self: flex-start;width: 50%;}#sk-container-id-23 div.sk-parallel-item:only-child::after {width: 0;}#sk-container-id-23 div.sk-dashed-wrapped {border: 1px dashed gray;margin: 0 0.4em 0.5em 0.4em;box-sizing: border-box;padding-bottom: 0.4em;background-color: white;}#sk-container-id-23 div.sk-label label {font-family: monospace;font-weight: bold;display: inline-block;line-height: 1.2em;}#sk-container-id-23 div.sk-label-container {text-align: center;}#sk-container-id-23 div.sk-container {/* jupyter's `normalize.less` sets `[hidden] { display: none; }` but bootstrap.min.css set `[hidden] { display: none !important; }` so we also need the `!important` here to be able to override the default hidden behavior on the sphinx rendered scikit-learn.org. See: https://github.com/scikit-learn/scikit-learn/issues/21755 */display: inline-block !important;position: relative;}#sk-container-id-23 div.sk-text-repr-fallback {display: none;}</style><div id=\"sk-container-id-23\" class=\"sk-top-container\"><div class=\"sk-text-repr-fallback\"><pre>Pipeline(steps=[(&#x27;preprocess&#x27;,\n",
       "                 FunctionTransformer(func=&lt;function preprocess_num_cat at 0x7f216ed1ce50&gt;)),\n",
       "                (&#x27;model&#x27;, RandomForestClassifier())])</pre><b>In a Jupyter environment, please rerun this cell to show the HTML representation or trust the notebook. <br />On GitHub, the HTML representation is unable to render, please try loading this page with nbviewer.org.</b></div><div class=\"sk-container\" hidden><div class=\"sk-item sk-dashed-wrapped\"><div class=\"sk-label-container\"><div class=\"sk-label sk-toggleable\"><input class=\"sk-toggleable__control sk-hidden--visually\" id=\"sk-estimator-id-46\" type=\"checkbox\" ><label for=\"sk-estimator-id-46\" class=\"sk-toggleable__label sk-toggleable__label-arrow\">Pipeline</label><div class=\"sk-toggleable__content\"><pre>Pipeline(steps=[(&#x27;preprocess&#x27;,\n",
       "                 FunctionTransformer(func=&lt;function preprocess_num_cat at 0x7f216ed1ce50&gt;)),\n",
       "                (&#x27;model&#x27;, RandomForestClassifier())])</pre></div></div></div><div class=\"sk-serial\"><div class=\"sk-item\"><div class=\"sk-estimator sk-toggleable\"><input class=\"sk-toggleable__control sk-hidden--visually\" id=\"sk-estimator-id-47\" type=\"checkbox\" ><label for=\"sk-estimator-id-47\" class=\"sk-toggleable__label sk-toggleable__label-arrow\">FunctionTransformer</label><div class=\"sk-toggleable__content\"><pre>FunctionTransformer(func=&lt;function preprocess_num_cat at 0x7f216ed1ce50&gt;)</pre></div></div></div><div class=\"sk-item\"><div class=\"sk-estimator sk-toggleable\"><input class=\"sk-toggleable__control sk-hidden--visually\" id=\"sk-estimator-id-48\" type=\"checkbox\" ><label for=\"sk-estimator-id-48\" class=\"sk-toggleable__label sk-toggleable__label-arrow\">RandomForestClassifier</label><div class=\"sk-toggleable__content\"><pre>RandomForestClassifier()</pre></div></div></div></div></div></div></div>"
      ],
      "text/plain": [
       "Pipeline(steps=[('preprocess',\n",
       "                 FunctionTransformer(func=<function preprocess_num_cat at 0x7f216ed1ce50>)),\n",
       "                ('model', RandomForestClassifier())])"
      ]
     },
     "execution_count": 1014,
     "metadata": {},
     "output_type": "execute_result"
    }
   ],
   "source": [
    "from sklearn.preprocessing import FunctionTransformer\n",
    "from sklearn.model_selection import train_test_split\n",
    "from sklearn.metrics import accuracy_score\n",
    "\n",
    "\n",
    "categorical_pipline = Pipeline(steps=[\n",
    "    (\"cabin-extractor\",CabinExtractor()),\n",
    "    (\"droper\",CategoricalDropper([\"Ticket\",\"Cabin\",\"Name\"])),\n",
    "    (\"imputer\" , pdSimpleImputer([\"Embarked\"])),\n",
    "    (\"encoder\",pdOrdinalEncoder([\"Embarked\",\"Sex\",\"CabinClass\"]))\n",
    "])\n",
    "numerical_pipeline = Pipeline([\n",
    "    (\"impute-age\",pdSimpleImputer([\"Age\",\"Fare\"]))\n",
    "])\n",
    "\n",
    "def preprocess_num_cat(X):\n",
    "    categorical_columns = [i for i in X.columns if X[i].dtype == \"object\"]\n",
    "    categorical_data = pd.DataFrame([X[i].values for i in X.columns if X[i].dtype == \"object\"]).T\n",
    "    categorical_data.columns = categorical_columns\n",
    "    \n",
    "    \n",
    "    numerical_columns = [i for i in X.columns if X[i].dtype != \"object\"]\n",
    "    numerical_data = pd.DataFrame([X[i].values for i in X.columns if X[i].dtype != \"object\"]).T\n",
    "    numerical_data.columns = numerical_columns    \n",
    "    \n",
    "    preprocessed_num = numerical_pipeline.fit_transform(numerical_data)\n",
    "    preprocessed_cat = categorical_pipline.fit_transform(categorical_data)\n",
    "    return preprocessed_num.join(preprocessed_cat)\n",
    "\n",
    "\n",
    "pipeline = Pipeline([\n",
    "    (\"preprocess\",FunctionTransformer(preprocess_num_cat)),\n",
    "    (\"model\",RandomForestClassifier())\n",
    "])\n",
    "\n",
    "pipeline.fit(X,y)"
   ]
  },
  {
   "cell_type": "code",
   "execution_count": 1024,
   "id": "3a864209",
   "metadata": {},
   "outputs": [
    {
     "name": "stdout",
     "output_type": "stream",
     "text": [
      "[0.80446927 0.79775281 0.85393258 0.78089888 0.85393258] 0.8181972255351202\n"
     ]
    }
   ],
   "source": [
    "from sklearn.model_selection import cross_val_score, cross_val_predict\n",
    "scores = cross_val_score(pipeline.named_steps[\"model\"], preprocess_num_cat(X), y,cv=5)\n",
    "print(scores,scores.mean())"
   ]
  },
  {
   "cell_type": "code",
   "execution_count": 1016,
   "id": "9b5681fd",
   "metadata": {},
   "outputs": [],
   "source": [
    "X_tested = test_ds.copy()\n",
    "y_pred = pipeline.predict(X_tested)"
   ]
  },
  {
   "cell_type": "code",
   "execution_count": 1017,
   "id": "4dff9d5b",
   "metadata": {},
   "outputs": [],
   "source": [
    "y_df = [[892 + i , y_pred[i]] for i in range(len(y_pred))]\n",
    "y_df = pd.DataFrame(y_df,columns= [\"PassengerId\",\"Survived\"])\n",
    "y_df.to_csv(\"data/cross_validated_piplined_xd.csv\",index=False)"
   ]
  }
 ],
 "metadata": {
  "kernelspec": {
   "display_name": "Python 3 (ipykernel)",
   "language": "python",
   "name": "python3"
  },
  "language_info": {
   "codemirror_mode": {
    "name": "ipython",
    "version": 3
   },
   "file_extension": ".py",
   "mimetype": "text/x-python",
   "name": "python",
   "nbconvert_exporter": "python",
   "pygments_lexer": "ipython3",
   "version": "3.10.12"
  }
 },
 "nbformat": 4,
 "nbformat_minor": 5
}
