{
 "cells": [
  {
   "cell_type": "code",
   "execution_count": 313,
   "id": "bc3aaf80",
   "metadata": {},
   "outputs": [],
   "source": [
    "import pandas as pd\n",
    "import numpy as np\n",
    "from sklearn.ensemble import RandomForestClassifier"
   ]
  },
  {
   "cell_type": "code",
   "execution_count": 386,
   "id": "4ddf2421",
   "metadata": {},
   "outputs": [],
   "source": [
    "train_ds = pd.read_csv(\"data/train.csv\",index_col=\"PassengerId\")\n",
    "test_ds = pd.read_csv(\"data/test.csv\",index_col=\"PassengerId\")"
   ]
  },
  {
   "cell_type": "code",
   "execution_count": 390,
   "id": "6f43363d",
   "metadata": {},
   "outputs": [],
   "source": [
    "X = train_ds.copy()\n",
    "y = X.pop(\"Survived\")"
   ]
  },
  {
   "cell_type": "code",
   "execution_count": 392,
   "id": "1f57d2cb",
   "metadata": {},
   "outputs": [],
   "source": [
    "from sklearn.preprocessing import OrdinalEncoder \n",
    "\n",
    "# get a baseline value\n",
    "# handling categorical data\n",
    "\n",
    "categorical_columns = [i for i in X.columns if X[i].dtype == \"object\"]\n",
    "categorical_data = pd.DataFrame([X[i].values for i in X.columns if X[i].dtype == \"object\"]).T\n",
    "categorical_data.columns = categorical_columns\n",
    "\n",
    "# i think tickets are useless not visible pattren\n",
    "categorical_data.drop([\"Ticket\"],inplace=True,axis=1)\n",
    "# replace Nans with \"S\" bc over 600 of ppl are \"S\"\n",
    "categorical_data[\"Embarked\"].fillna(\"S\",inplace=True)\n",
    "# droping the name i think its pretty useless \n",
    "# except if i want to make relations between families i am not doing it for now \n",
    "categorical_data.drop(\"Name\",inplace=True,axis=1)\n",
    "\n",
    "\n",
    "# extracting CabinClass And CabinNumber from the CabinNumber N0 -> Nans\n",
    "categorical_data[\"Cabin\"].fillna(\"N-1\",inplace=True)\n",
    "categorical_data[\"CabinClass\"] = categorical_data[\"Cabin\"].str.extract(r\"(.)\",expand=True)\n",
    "categorical_data[\"CabinNumber\"] = categorical_data[\"Cabin\"].str.extract(r\"(-?\\d+)\",expand=True)\n",
    "# looks like there are room which CabinNumber is None we say that they are 0 indexed\n",
    "categorical_data[\"CabinNumber\"].fillna(0,inplace=True)\n",
    "# droping\n",
    "categorical_data.drop(\"Cabin\",axis=1,inplace=True)\n",
    "\n",
    "# encoding the data\n",
    "oe = OrdinalEncoder()\n",
    "categorical_data[\"Embarked\"] = oe.fit_transform(categorical_data[\"Embarked\"].values.reshape(-1,1))\n",
    "categorical_data[\"Sex\"] = oe.fit_transform(categorical_data[\"Sex\"].values.reshape(-1,1))\n",
    "categorical_data[\"CabinClass\"] = oe.fit_transform(categorical_data[\"CabinClass\"].values.reshape(-1,1))\n"
   ]
  },
  {
   "cell_type": "code",
   "execution_count": 393,
   "id": "9b90bbbc",
   "metadata": {},
   "outputs": [],
   "source": [
    "from sklearn.impute import SimpleImputer\n",
    "# handling numerical data\n",
    "\n",
    "numerical_columns = [i for i in X.columns if X[i].dtype != \"object\"]\n",
    "numerical_data = pd.DataFrame([X[i].values for i in X.columns if X[i].dtype != \"object\"]).T\n",
    "numerical_data.columns = numerical_columns\n",
    "\n",
    "# Imputing the Age \n",
    "si = SimpleImputer()\n",
    "numerical_data[\"Age\"] = si.fit_transform(numerical_data[\"Age\"].values.reshape(-1,1))"
   ]
  },
  {
   "cell_type": "code",
   "execution_count": 410,
   "id": "b6afd9da",
   "metadata": {},
   "outputs": [
    {
     "data": {
      "text/html": [
       "<style>#sk-container-id-8 {color: black;}#sk-container-id-8 pre{padding: 0;}#sk-container-id-8 div.sk-toggleable {background-color: white;}#sk-container-id-8 label.sk-toggleable__label {cursor: pointer;display: block;width: 100%;margin-bottom: 0;padding: 0.3em;box-sizing: border-box;text-align: center;}#sk-container-id-8 label.sk-toggleable__label-arrow:before {content: \"▸\";float: left;margin-right: 0.25em;color: #696969;}#sk-container-id-8 label.sk-toggleable__label-arrow:hover:before {color: black;}#sk-container-id-8 div.sk-estimator:hover label.sk-toggleable__label-arrow:before {color: black;}#sk-container-id-8 div.sk-toggleable__content {max-height: 0;max-width: 0;overflow: hidden;text-align: left;background-color: #f0f8ff;}#sk-container-id-8 div.sk-toggleable__content pre {margin: 0.2em;color: black;border-radius: 0.25em;background-color: #f0f8ff;}#sk-container-id-8 input.sk-toggleable__control:checked~div.sk-toggleable__content {max-height: 200px;max-width: 100%;overflow: auto;}#sk-container-id-8 input.sk-toggleable__control:checked~label.sk-toggleable__label-arrow:before {content: \"▾\";}#sk-container-id-8 div.sk-estimator input.sk-toggleable__control:checked~label.sk-toggleable__label {background-color: #d4ebff;}#sk-container-id-8 div.sk-label input.sk-toggleable__control:checked~label.sk-toggleable__label {background-color: #d4ebff;}#sk-container-id-8 input.sk-hidden--visually {border: 0;clip: rect(1px 1px 1px 1px);clip: rect(1px, 1px, 1px, 1px);height: 1px;margin: -1px;overflow: hidden;padding: 0;position: absolute;width: 1px;}#sk-container-id-8 div.sk-estimator {font-family: monospace;background-color: #f0f8ff;border: 1px dotted black;border-radius: 0.25em;box-sizing: border-box;margin-bottom: 0.5em;}#sk-container-id-8 div.sk-estimator:hover {background-color: #d4ebff;}#sk-container-id-8 div.sk-parallel-item::after {content: \"\";width: 100%;border-bottom: 1px solid gray;flex-grow: 1;}#sk-container-id-8 div.sk-label:hover label.sk-toggleable__label {background-color: #d4ebff;}#sk-container-id-8 div.sk-serial::before {content: \"\";position: absolute;border-left: 1px solid gray;box-sizing: border-box;top: 0;bottom: 0;left: 50%;z-index: 0;}#sk-container-id-8 div.sk-serial {display: flex;flex-direction: column;align-items: center;background-color: white;padding-right: 0.2em;padding-left: 0.2em;position: relative;}#sk-container-id-8 div.sk-item {position: relative;z-index: 1;}#sk-container-id-8 div.sk-parallel {display: flex;align-items: stretch;justify-content: center;background-color: white;position: relative;}#sk-container-id-8 div.sk-item::before, #sk-container-id-8 div.sk-parallel-item::before {content: \"\";position: absolute;border-left: 1px solid gray;box-sizing: border-box;top: 0;bottom: 0;left: 50%;z-index: -1;}#sk-container-id-8 div.sk-parallel-item {display: flex;flex-direction: column;z-index: 1;position: relative;background-color: white;}#sk-container-id-8 div.sk-parallel-item:first-child::after {align-self: flex-end;width: 50%;}#sk-container-id-8 div.sk-parallel-item:last-child::after {align-self: flex-start;width: 50%;}#sk-container-id-8 div.sk-parallel-item:only-child::after {width: 0;}#sk-container-id-8 div.sk-dashed-wrapped {border: 1px dashed gray;margin: 0 0.4em 0.5em 0.4em;box-sizing: border-box;padding-bottom: 0.4em;background-color: white;}#sk-container-id-8 div.sk-label label {font-family: monospace;font-weight: bold;display: inline-block;line-height: 1.2em;}#sk-container-id-8 div.sk-label-container {text-align: center;}#sk-container-id-8 div.sk-container {/* jupyter's `normalize.less` sets `[hidden] { display: none; }` but bootstrap.min.css set `[hidden] { display: none !important; }` so we also need the `!important` here to be able to override the default hidden behavior on the sphinx rendered scikit-learn.org. See: https://github.com/scikit-learn/scikit-learn/issues/21755 */display: inline-block !important;position: relative;}#sk-container-id-8 div.sk-text-repr-fallback {display: none;}</style><div id=\"sk-container-id-8\" class=\"sk-top-container\"><div class=\"sk-text-repr-fallback\"><pre>RandomForestClassifier()</pre><b>In a Jupyter environment, please rerun this cell to show the HTML representation or trust the notebook. <br />On GitHub, the HTML representation is unable to render, please try loading this page with nbviewer.org.</b></div><div class=\"sk-container\" hidden><div class=\"sk-item\"><div class=\"sk-estimator sk-toggleable\"><input class=\"sk-toggleable__control sk-hidden--visually\" id=\"sk-estimator-id-8\" type=\"checkbox\" checked><label for=\"sk-estimator-id-8\" class=\"sk-toggleable__label sk-toggleable__label-arrow\">RandomForestClassifier</label><div class=\"sk-toggleable__content\"><pre>RandomForestClassifier()</pre></div></div></div></div></div>"
      ],
      "text/plain": [
       "RandomForestClassifier()"
      ]
     },
     "execution_count": 410,
     "metadata": {},
     "output_type": "execute_result"
    }
   ],
   "source": [
    "from sklearn.model_selection import train_test_split\n",
    "\n",
    "X_merged = numerical_data.copy()\n",
    "for i in categorical_data:\n",
    "    X_merged[i] = categorical_data[i]\n",
    "\n",
    "# training the random forest\n",
    "X_train , X_test,y_train , y_test = train_test_split(X_merged,y,test_size=0.2)\n",
    "cls = RandomForestClassifier()\n",
    "clf.fit(X_train,y_train)"
   ]
  },
  {
   "cell_type": "code",
   "execution_count": 411,
   "id": "78bca237",
   "metadata": {},
   "outputs": [
    {
     "data": {
      "text/plain": [
       "0.8603351955307262"
      ]
     },
     "execution_count": 411,
     "metadata": {},
     "output_type": "execute_result"
    }
   ],
   "source": [
    "from sklearn.metrics import accuracy_score\n",
    "pred = clf.predict(X_test)\n",
    "accuracy_score(y_test,pred)"
   ]
  },
  {
   "cell_type": "code",
   "execution_count": 480,
   "id": "91c95cae",
   "metadata": {},
   "outputs": [],
   "source": [
    "# prase test data\n",
    "X_test = test_ds.copy()\n",
    "\n",
    "# handling categorical data\n",
    "categorical_columns = [i for i in X_test.columns if X_test[i].dtype == \"object\"]\n",
    "categorical_data = pd.DataFrame([X_test[i].values for i in X_test.columns if X_test[i].dtype == \"object\"]).T\n",
    "categorical_data.columns = categorical_columns\n",
    "\n",
    "categorical_data.drop([\"Ticket\"],inplace=True,axis=1)\n",
    "categorical_data[\"Embarked\"].fillna(\"S\",inplace=True)\n",
    "categorical_data.drop(\"Name\",inplace=True,axis=1)\n",
    "\n",
    "\n",
    "categorical_data[\"Cabin\"].fillna(\"N-1\",inplace=True)\n",
    "categorical_data[\"CabinClass\"] = categorical_data[\"Cabin\"].str.extract(r\"(.)\",expand=True)\n",
    "categorical_data[\"CabinNumber\"] = categorical_data[\"Cabin\"].str.extract(r\"(-?\\d+)\",expand=True)\n",
    "categorical_data[\"CabinNumber\"].fillna(0,inplace=True)\n",
    "categorical_data.drop(\"Cabin\",axis=1,inplace=True)\n",
    "\n",
    "\n",
    "# encoding the data\n",
    "oe = OrdinalEncoder()\n",
    "categorical_data[\"Embarked\"] = oe.fit_transform(categorical_data[\"Embarked\"].values.reshape(-1,1))\n",
    "categorical_data[\"Sex\"] = oe.fit_transform(categorical_data[\"Sex\"].values.reshape(-1,1))\n",
    "categorical_data[\"CabinClass\"] = oe.fit_transform(categorical_data[\"CabinClass\"].values.reshape(-1,1))\n",
    "\n",
    "\n",
    "# handling numerical data\n",
    "numerical_columns = [i for i in X_test.columns if X_test[i].dtype != \"object\"]\n",
    "numerical_data = pd.DataFrame([X_test[i].values for i in X_test.columns if X_test[i].dtype != \"object\"]).T\n",
    "numerical_data.columns = numerical_columns\n",
    "\n",
    "si = SimpleImputer()\n",
    "numerical_data[\"Age\"] = si.fit_transform(numerical_data[\"Age\"].values.reshape(-1,1))\n",
    "numerical_data[\"Fare\"] = si.fit_transform(numerical_data[\"Fare\"].values.reshape(-1,1))\n",
    "\n",
    "\n",
    "\n",
    "X_m = numerical_data.copy()\n",
    "for i in categorical_data:\n",
    "    X_m[i] = categorical_data[i]\n",
    "X_test = X_m\n",
    "\n",
    "pred = clf.predict(X_test)\n",
    "pred = [[i + 892, pred[i]] for i in range(len(pred)) ]\n",
    "pred_df = pd.DataFrame(pred,columns=[\"PassengerId\",\"Survived\"])\n",
    "\n",
    "pred_df.to_csv(\"data/baseline.csv\",index=False)"
   ]
  },
  {
   "cell_type": "code",
   "execution_count": 50,
   "id": "8c7df63c",
   "metadata": {},
   "outputs": [],
   "source": [
    "import matplotlib.pyplot as plt\n",
    "import seaborn as sns"
   ]
  },
  {
   "cell_type": "code",
   "execution_count": 79,
   "id": "668ba19f",
   "metadata": {},
   "outputs": [
    {
     "data": {
      "text/plain": [
       "<AxesSubplot:xlabel='Pclass', ylabel='Survived'>"
      ]
     },
     "execution_count": 79,
     "metadata": {},
     "output_type": "execute_result"
    },
    {
     "data": {
      "image/png": "[encoded data removed]",
      "text/plain": [
       "<Figure size 432x288 with 1 Axes>"
      ]
     },
     "metadata": {
      "needs_background": "light"
     },
     "output_type": "display_data"
    }
   ],
   "source": [
    "sns.barplot(train_ds,x = \"Pclass\",y=\"Survived\")\n",
    "sns.barplot(train_ds,x = \"Sex\",y=\"Survived\")"
   ]
  },
  {
   "cell_type": "code",
   "execution_count": 119,
   "id": "c8db6b5c",
   "metadata": {},
   "outputs": [
    {
     "data": {
      "text/plain": [
       "<AxesSubplot:xlabel='Pclass', ylabel='Fare'>"
      ]
     },
     "execution_count": 119,
     "metadata": {},
     "output_type": "execute_result"
    },
    {
     "data": {
      "image/png": "[encoded data removed]",
      "text/plain": [
       "<Figure size 432x288 with 1 Axes>"
      ]
     },
     "metadata": {
      "needs_background": "light"
     },
     "output_type": "display_data"
    }
   ],
   "source": [
    "sns.stripplot(train_ds,x = \"Pclass\",y=\"Fare\")"
   ]
  }
 ],
 "metadata": {
  "kernelspec": {
   "display_name": "Python 3 (ipykernel)",
   "language": "python",
   "name": "python3"
  },
  "language_info": {
   "codemirror_mode": {
    "name": "ipython",
    "version": 3
   },
   "file_extension": ".py",
   "mimetype": "text/x-python",
   "name": "python",
   "nbconvert_exporter": "python",
   "pygments_lexer": "ipython3",
   "version": "3.10.12"
  }
 },
 "nbformat": 4,
 "nbformat_minor": 5
}
