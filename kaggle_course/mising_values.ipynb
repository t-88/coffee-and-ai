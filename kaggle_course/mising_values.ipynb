{
 "cells": [
  {
   "cell_type": "code",
   "execution_count": 11,
   "metadata": {},
   "outputs": [],
   "source": [
    "import pandas as pd\n",
    "from sklearn.model_selection import train_test_split   \n",
    "from sklearn.ensemble import RandomForestClassifier\n",
    "from sklearn.metrics import mean_absolute_error     "
   ]
  },
  {
   "cell_type": "code",
   "execution_count": 12,
   "metadata": {},
   "outputs": [],
   "source": [
    "def report_pref(X_train,X_test,y_train,y_test):\n",
    "    model = RandomForestClassifier(n_estimators=10, random_state=0)\n",
    "    model.fit(X_train,y_train)\n",
    "    preds = model.predict(X_test)\n",
    "    return mean_absolute_error(y_test,preds)"
   ]
  },
  {
   "cell_type": "code",
   "execution_count": 13,
   "metadata": {},
   "outputs": [],
   "source": [
    "data = pd.read_csv(\"melb_data/melb_data.csv\")\n",
    "\n",
    "X = data.drop([\"Price\"],axis=1)\n",
    "X = X.select_dtypes(exclude=[\"object\"])\n",
    "y = data[\"Price\"]\n",
    "\n",
    "\n",
    "X_train ,X_test, y_train , y_test = train_test_split(X,y,test_size=0.2,random_state=0)"
   ]
  },
  {
   "cell_type": "code",
   "execution_count": 14,
   "metadata": {},
   "outputs": [
    {
     "data": {
      "text/plain": [
       "240998.13328424154"
      ]
     },
     "execution_count": 14,
     "metadata": {},
     "output_type": "execute_result"
    }
   ],
   "source": [
    "# Drop whole column\n",
    "cols_with_missing_fields = [col for col in X_train.columns if X_train[col].isnull().any()]\n",
    "reduced_X_train = X_train.drop(cols_with_missing_fields,axis=1)\n",
    "reduced_X_test = X_test.drop(cols_with_missing_fields,axis=1)\n",
    "report_pref(reduced_X_train,reduced_X_test,y_train,y_test)"
   ]
  },
  {
   "cell_type": "code",
   "execution_count": 23,
   "metadata": {},
   "outputs": [
    {
     "name": "stderr",
     "output_type": "stream",
     "text": [
      "/tmp/ipykernel_9038/2809379660.py:7: UserWarning: Pandas doesn't allow columns to be created via a new attribute name - see https://pandas.pydata.org/pandas-docs/stable/indexing.html#attribute-access\n",
      "  imputed_X_train.colums = X_train.columns\n",
      "/tmp/ipykernel_9038/2809379660.py:8: UserWarning: Pandas doesn't allow columns to be created via a new attribute name - see https://pandas.pydata.org/pandas-docs/stable/indexing.html#attribute-access\n",
      "  imputed_X_test.colums = X_test.columns\n"
     ]
    },
    {
     "data": {
      "text/plain": [
       "265770.96649484534"
      ]
     },
     "execution_count": 23,
     "metadata": {},
     "output_type": "execute_result"
    }
   ],
   "source": [
    "from sklearn.impute import SimpleImputer\n",
    "\n",
    "imp = SimpleImputer()\n",
    "imputed_X_train = pd.DataFrame(imp.fit_transform(X_train))\n",
    "imputed_X_test = pd.DataFrame(imp.transform(X_test))\n",
    "\n",
    "imputed_X_train.colums = X_train.columns\n",
    "imputed_X_test.colums = X_test.columns\n",
    "\n",
    "report_pref(imputed_X_train,imputed_X_test,y_train,y_test)"
   ]
  },
  {
   "cell_type": "code",
   "execution_count": 26,
   "metadata": {},
   "outputs": [
    {
     "name": "stderr",
     "output_type": "stream",
     "text": [
      "/tmp/ipykernel_9038/1548245009.py:13: UserWarning: Pandas doesn't allow columns to be created via a new attribute name - see https://pandas.pydata.org/pandas-docs/stable/indexing.html#attribute-access\n",
      "  imputed_X_train.colums = X_train_plus.columns\n",
      "/tmp/ipykernel_9038/1548245009.py:14: UserWarning: Pandas doesn't allow columns to be created via a new attribute name - see https://pandas.pydata.org/pandas-docs/stable/indexing.html#attribute-access\n",
      "  imputed_X_test.colums = X_test_plus.columns\n"
     ]
    },
    {
     "data": {
      "text/plain": [
       "278832.8792341679"
      ]
     },
     "execution_count": 26,
     "metadata": {},
     "output_type": "execute_result"
    }
   ],
   "source": [
    "X_train_plus = X_train.copy()\n",
    "X_test_plus = X_test.copy()\n",
    "for col in cols_with_missing_fields:\n",
    "    X_train_plus[col + \"_missing\"] = X_train_plus[col].isnull()\n",
    "    X_test_plus[col + \"_missing\"] = X_test_plus[col].isnull()\n",
    "\n",
    "    \n",
    "\n",
    "imp = SimpleImputer()\n",
    "imputed_X_train = pd.DataFrame(imp.fit_transform(X_train_plus))\n",
    "imputed_X_test = pd.DataFrame(imp.transform(X_test_plus))\n",
    "\n",
    "imputed_X_train.colums = X_train_plus.columns\n",
    "imputed_X_test.colums = X_test_plus.columns\n",
    "\n",
    "report_pref(imputed_X_train,imputed_X_test,y_train,y_test)"
   ]
  }
 ],
 "metadata": {
  "kernelspec": {
   "display_name": "Python 3 (ipykernel)",
   "language": "python",
   "name": "python3"
  },
  "language_info": {
   "codemirror_mode": {
    "name": "ipython",
    "version": 3
   },
   "file_extension": ".py",
   "mimetype": "text/x-python",
   "name": "python",
   "nbconvert_exporter": "python",
   "pygments_lexer": "ipython3",
   "version": "3.10.12"
  }
 },
 "nbformat": 4,
 "nbformat_minor": 2
}
